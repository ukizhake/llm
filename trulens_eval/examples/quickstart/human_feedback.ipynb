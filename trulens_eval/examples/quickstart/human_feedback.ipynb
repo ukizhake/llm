{
  "cells": [
    {
      "cell_type": "markdown",
      "metadata": {
        "id": "HcKpvL4oOXG0"
      },
      "source": [
        "# 📓 Logging Human Feedback\n",
        "\n",
        "In many situations, it can be useful to log human feedback from your users about your LLM app's performance. Combining human feedback along with automated feedback can help you drill down on subsets of your app that underperform, and uncover new failure modes. This example will walk you through a simple example of recording human feedback with TruLens.\n",
        "\n",
        "[![Open In Colab](https://colab.research.google.com/assets/colab-badge.svg)](https://colab.research.google.com/github/truera/trulens/blob/main/trulens_eval/examples/quickstart/human_feedback.ipynb)"
      ]
    },
    {
      "cell_type": "code",
      "execution_count": null,
      "metadata": {
        "id": "bqupBvw7OXG2"
      },
      "outputs": [],
      "source": [
        "# ! pip install trulens_eval==0.23.0 openai==1.3.7"
      ]
    },
    {
      "cell_type": "code",
      "execution_count": null,
      "metadata": {
        "id": "aRhaGo3gOXG3"
      },
      "outputs": [],
      "source": [
        "import os\n",
        "\n",
        "from trulens_eval import Tru\n",
        "from trulens_eval import TruCustomApp\n",
        "\n",
        "tru = Tru()"
      ]
    },
    {
      "cell_type": "markdown",
      "metadata": {
        "id": "Svq3xPH4OXG3"
      },
      "source": [
        "## Set Keys\n",
        "\n",
        "For this example, you need an OpenAI key."
      ]
    },
    {
      "cell_type": "code",
      "execution_count": null,
      "metadata": {
        "id": "kq7beWQ6OXG3"
      },
      "outputs": [],
      "source": [
        "os.environ[\"OPENAI_API_KEY\"] = \"sk-...\""
      ]
    },
    {
      "cell_type": "markdown",
      "metadata": {
        "id": "NpGByZGGOXG3"
      },
      "source": [
        "## Set up your app\n",
        "\n",
        "Here we set up a custom application using just an OpenAI chat completion. The process for logging human feedback is the same however you choose to set up your app."
      ]
    },
    {
      "cell_type": "code",
      "execution_count": null,
      "metadata": {
        "id": "6Hs4yPIkOXG4"
      },
      "outputs": [],
      "source": [
        "from openai import OpenAI\n",
        "oai_client = OpenAI()\n",
        "\n",
        "from trulens_eval.tru_custom_app import instrument\n",
        "\n",
        "class APP:\n",
        "    @instrument\n",
        "    def completion(self, prompt):\n",
        "        completion = oai_client.chat.completions.create(\n",
        "                model=\"gpt-3.5-turbo\",\n",
        "                temperature=0,\n",
        "                messages=\n",
        "                [\n",
        "                    {\"role\": \"user\",\n",
        "                    \"content\":\n",
        "                    f\"Please answer the question: {prompt}\"\n",
        "                    }\n",
        "                ]\n",
        "                ).choices[0].message.content\n",
        "        return completion\n",
        "\n",
        "llm_app = APP()\n",
        "\n",
        "# add trulens as a context manager for llm_app\n",
        "tru_app = TruCustomApp(llm_app, app_id = 'LLM App v1')\n"
      ]
    },
    {
      "cell_type": "markdown",
      "metadata": {
        "id": "05sHOea5OXG4"
      },
      "source": [
        "## Run the app"
      ]
    },
    {
      "cell_type": "code",
      "execution_count": null,
      "metadata": {
        "id": "nIFZRAroOXG4"
      },
      "outputs": [],
      "source": [
        "with tru_app as recording:\n",
        "    llm_app.completion(\"Give me 10 names for a colorful sock company\")"
      ]
    },
    {
      "cell_type": "code",
      "execution_count": null,
      "metadata": {
        "id": "Y1w52ma1OXG4"
      },
      "outputs": [],
      "source": [
        "# Get the record to add the feedback to.\n",
        "record = recording.get()"
      ]
    },
    {
      "cell_type": "markdown",
      "metadata": {
        "id": "FvqgZlYeOXG4"
      },
      "source": [
        "## Create a mechamism for recording human feedback.\n",
        "\n",
        "Be sure to click an emoji in the record to record `human_feedback` to log."
      ]
    },
    {
      "cell_type": "code",
      "execution_count": null,
      "metadata": {
        "id": "GTicpUbYOXG5"
      },
      "outputs": [],
      "source": [
        "from ipywidgets import Button, HBox, VBox\n",
        "\n",
        "thumbs_up_button = Button(description='👍')\n",
        "thumbs_down_button = Button(description='👎')\n",
        "\n",
        "human_feedback = None\n",
        "\n",
        "def on_thumbs_up_button_clicked(b):\n",
        "    global human_feedback\n",
        "    human_feedback = 1\n",
        "\n",
        "def on_thumbs_down_button_clicked(b):\n",
        "    global human_feedback\n",
        "    human_feedback = 0\n",
        "\n",
        "thumbs_up_button.on_click(on_thumbs_up_button_clicked)\n",
        "thumbs_down_button.on_click(on_thumbs_down_button_clicked)\n",
        "\n",
        "HBox([thumbs_up_button, thumbs_down_button])"
      ]
    },
    {
      "cell_type": "code",
      "execution_count": null,
      "metadata": {
        "id": "LRZsYG9dOXG5"
      },
      "outputs": [],
      "source": [
        "# add the human feedback to a particular app and record\n",
        "tru.add_feedback(\n",
        "    name=\"Human Feedack\",\n",
        "    record_id=record.record_id,\n",
        "    app_id=tru_app.app_id,\n",
        "    result=human_feedback\n",
        ")"
      ]
    },
    {
      "cell_type": "markdown",
      "metadata": {
        "id": "mtIT-CTtOXG5"
      },
      "source": [
        "## See the result logged with your app."
      ]
    },
    {
      "cell_type": "code",
      "execution_count": null,
      "metadata": {
        "id": "iqt6TShcOXG5"
      },
      "outputs": [],
      "source": [
        "tru.get_leaderboard(app_ids=[tru_app.app_id])"
      ]
    }
  ],
  "metadata": {
    "kernelspec": {
      "display_name": "trulens18_release",
      "language": "python",
      "name": "python3"
    },
    "language_info": {
      "codemirror_mode": {
        "name": "ipython",
        "version": 3
      },
      "file_extension": ".py",
      "mimetype": "text/x-python",
      "name": "python",
      "nbconvert_exporter": "python",
      "pygments_lexer": "ipython3",
      "version": "3.11.5"
    },
    "colab": {
      "provenance": []
    }
  },
  "nbformat": 4,
  "nbformat_minor": 0
}