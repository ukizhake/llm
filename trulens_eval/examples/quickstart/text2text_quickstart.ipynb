{
  "cells": [
    {
      "cell_type": "markdown",
      "metadata": {
        "id": "97tPHGQoNzeh"
      },
      "source": [
        "# 📓 Text to Text Quickstart\n",
        "\n",
        "In this quickstart you will create a simple text to text application and learn how to log it and get feedback.\n",
        "\n",
        "[![Open In Colab](https://colab.research.google.com/assets/colab-badge.svg)](https://colab.research.google.com/github/truera/trulens/blob/main/trulens_eval/examples/quickstart/text2text_quickstart.ipynb)"
      ]
    },
    {
      "cell_type": "markdown",
      "metadata": {
        "id": "lJEgdkN0Nzei"
      },
      "source": [
        "## Setup\n",
        "### Add API keys\n",
        "For this quickstart you will need an OpenAI Key."
      ]
    },
    {
      "cell_type": "code",
      "execution_count": null,
      "metadata": {
        "id": "AsX1Rs3DNzei"
      },
      "outputs": [],
      "source": [
        "# ! pip install trulens_eval==0.23.0 openai==1.3.1"
      ]
    },
    {
      "cell_type": "code",
      "execution_count": null,
      "metadata": {
        "id": "gMbyRW8dNzej"
      },
      "outputs": [],
      "source": [
        "import os\n",
        "os.environ[\"OPENAI_API_KEY\"] = \"sk-...\""
      ]
    },
    {
      "cell_type": "markdown",
      "metadata": {
        "id": "CaOkw18_Nzej"
      },
      "source": [
        "### Import from TruLens"
      ]
    },
    {
      "cell_type": "code",
      "execution_count": null,
      "metadata": {
        "id": "OMHGZ_J8Nzej"
      },
      "outputs": [],
      "source": [
        "# Create openai client\n",
        "from openai import OpenAI\n",
        "client = OpenAI()\n",
        "\n",
        "# Imports main tools:\n",
        "from trulens_eval import Feedback, OpenAI as fOpenAI, Tru\n",
        "tru = Tru()\n",
        "tru.reset_database()"
      ]
    },
    {
      "cell_type": "markdown",
      "metadata": {
        "id": "I3FNLllyNzej"
      },
      "source": [
        "### Create Simple Text to Text Application\n",
        "\n",
        "This example uses a bare bones OpenAI LLM, and a non-LLM just for demonstration purposes."
      ]
    },
    {
      "cell_type": "code",
      "execution_count": null,
      "metadata": {
        "id": "pnhGfEF5Nzej"
      },
      "outputs": [],
      "source": [
        "def llm_standalone(prompt):\n",
        "    return client.chat.completions.create(\n",
        "    model=\"gpt-3.5-turbo\",\n",
        "    messages=[\n",
        "            {\"role\": \"system\", \"content\": \"You are a question and answer bot, and you answer super upbeat.\"},\n",
        "            {\"role\": \"user\", \"content\": prompt}\n",
        "        ]\n",
        "    ).choices[0].message.content"
      ]
    },
    {
      "cell_type": "markdown",
      "metadata": {
        "id": "-JCHn5SMNzek"
      },
      "source": [
        "### Send your first request"
      ]
    },
    {
      "cell_type": "code",
      "execution_count": null,
      "metadata": {
        "id": "Quh2z230Nzek"
      },
      "outputs": [],
      "source": [
        "prompt_input=\"How good is language AI?\"\n",
        "prompt_output = llm_standalone(prompt_input)\n",
        "prompt_output"
      ]
    },
    {
      "cell_type": "markdown",
      "metadata": {
        "id": "iQXddFXPNzek"
      },
      "source": [
        "## Initialize Feedback Function(s)"
      ]
    },
    {
      "cell_type": "code",
      "execution_count": null,
      "metadata": {
        "id": "ZUNHEvURNzek"
      },
      "outputs": [],
      "source": [
        "# Initialize OpenAI-based feedback function collection class:\n",
        "fopenai = fOpenAI()\n",
        "\n",
        "# Define a relevance function from openai\n",
        "f_relevance = Feedback(fopenai.relevance).on_input_output()"
      ]
    },
    {
      "cell_type": "markdown",
      "metadata": {
        "id": "2BE1uug0Nzek"
      },
      "source": [
        "## Instrument the callable for logging with TruLens"
      ]
    },
    {
      "cell_type": "code",
      "execution_count": null,
      "metadata": {
        "id": "i3HilXSnNzek"
      },
      "outputs": [],
      "source": [
        "from trulens_eval import TruBasicApp\n",
        "tru_llm_standalone_recorder = TruBasicApp(llm_standalone, app_id=\"Happy Bot\", feedbacks=[f_relevance])"
      ]
    },
    {
      "cell_type": "code",
      "execution_count": null,
      "metadata": {
        "id": "f5eyBpX-Nzek"
      },
      "outputs": [],
      "source": [
        "with tru_llm_standalone_recorder as recording:\n",
        "    tru_llm_standalone_recorder.app(prompt_input)"
      ]
    },
    {
      "cell_type": "markdown",
      "metadata": {
        "id": "KoVbVcXbNzek"
      },
      "source": [
        "## Explore in a Dashboard"
      ]
    },
    {
      "cell_type": "code",
      "execution_count": null,
      "metadata": {
        "id": "zibEXcdDNzek"
      },
      "outputs": [],
      "source": [
        "tru.run_dashboard() # open a local streamlit app to explore\n",
        "\n",
        "# tru.stop_dashboard() # stop if needed"
      ]
    },
    {
      "cell_type": "markdown",
      "metadata": {
        "id": "lidTFDcyNzek"
      },
      "source": [
        "Alternatively, you can run `trulens-eval` from a command line in the same folder to start the dashboard."
      ]
    },
    {
      "cell_type": "markdown",
      "metadata": {
        "id": "Cwxpg5T9Nzek"
      },
      "source": [
        "## Or view results directly in your notebook"
      ]
    },
    {
      "cell_type": "code",
      "execution_count": null,
      "metadata": {
        "id": "Pwmci8pSNzek"
      },
      "outputs": [],
      "source": [
        "tru.get_records_and_feedback(app_ids=[])[0] # pass an empty list of app_ids to get all"
      ]
    }
  ],
  "metadata": {
    "kernelspec": {
      "display_name": "milvus",
      "language": "python",
      "name": "python3"
    },
    "language_info": {
      "codemirror_mode": {
        "name": "ipython",
        "version": 3
      },
      "file_extension": ".py",
      "mimetype": "text/x-python",
      "name": "python",
      "nbconvert_exporter": "python",
      "pygments_lexer": "ipython3",
      "version": "3.8.16"
    },
    "colab": {
      "provenance": []
    }
  },
  "nbformat": 4,
  "nbformat_minor": 0
}